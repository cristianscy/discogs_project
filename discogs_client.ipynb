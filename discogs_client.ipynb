{
 "cells": [
  {
   "cell_type": "code",
   "execution_count": 16,
   "id": "b595ecbf-5f09-455e-aeae-0112d1bb7bc5",
   "metadata": {},
   "outputs": [],
   "source": [
    "import discogs_client"
   ]
  },
  {
   "cell_type": "code",
   "execution_count": 17,
   "id": "7b21c25b-0dc2-421b-aff3-af5542ab2d00",
   "metadata": {},
   "outputs": [],
   "source": [
    "d = discogs_client.Client('app/0.1', user_token=' ')"
   ]
  },
  {
   "cell_type": "code",
   "execution_count": 18,
   "id": "b5b05381-69a4-463d-a4d4-ac4cbda812dd",
   "metadata": {},
   "outputs": [],
   "source": [
    "label_id = 1265272\n",
    "min_average = 4.75"
   ]
  },
  {
   "cell_type": "code",
   "execution_count": 19,
   "id": "1e275fb9-f896-43b3-bf52-2db5596ca339",
   "metadata": {},
   "outputs": [],
   "source": [
    "result_label = d.label(label_id)"
   ]
  },
  {
   "cell_type": "code",
   "execution_count": 20,
   "id": "c4e9f7fe-98b0-4b2c-b8c8-104069961370",
   "metadata": {},
   "outputs": [
    {
     "name": "stdout",
     "output_type": "stream",
     "text": [
      "\n",
      "Page: 1/1\n",
      "[<Release 24998860 'The Dark Welcome'>, <Release 26600165 'The Dark Welcome'>, <Release 10446578 'Diamonds & Ashes'>, <Release 10530622 'Totsuka No Tsurugi'>, <Release 11058723 'Sawmill'>, <Release 26606444 'Sawmill'>, <Release 11184384 'Anathema'>, <Release 13217748 'ARTSCORE005'>, <Release 15163690 'ARTSCORE005'>, <Release 14630885 'Hammerhead'>, <Release 13862589 'Hammerhead'>, <Release 14048028 'Onryo'>, <Release 14298828 'Die Illusion'>, <Release 15019933 'Die Illusion'>, <Release 14651640 'Time Is Relative'>, <Release 14822158 ' Time Is Relative'>, <Release 14764037 'Body Brain '>, <Release 15231419 'Wave Of Nostalgia EP '>, <Release 15949109 'Superwoman 2\\u200b.\\u200b0'>, <Release 16270494 'REM'>, <Release 17372029 'Cold Spots'>, <Release 17860888 'Cold Spots'>, <Release 24520745 'H O Σ T I L E '>, <Release 24700613 'H O Σ T I L E '>, <Release 24801965 'The Dark Welcome'>, <Release 24985687 'Tiger Grass'>, <Release 25237264 'Hush'>, <Release 25899808 'Spectrum'>, <Release 26774429 'Never Enough'>, <Release 27758250 'You Are In The Right Place'>, <Release 29137510 'Nostalgia'>, <Release 14822143 ' Body Brain '>, <Release 10783816 'Rave Culture'>, <Release 12315543 'Rave Culture'>, <Release 18469054 'It Will Make The World A Better Place'>, <Release 21118789 'Force Of Nature '>, <Release 24551924 'XXX LP'>, <Release 23283611 'XXX LP'>]\n"
     ]
    }
   ],
   "source": [
    "filtered_release_list = []\n",
    "for k in range(1, result_label.releases.pages+1):\n",
    "    print()\n",
    "    print(\"Page: {}/{}\".format(k,result_label.releases.pages))\n",
    "    print(result_label.releases.page(k))\n",
    "    for item in result_label.releases.page(k):\n",
    "        release = d.release(item.id)       \n",
    "        if release.community.rating.average >= min_average and release.formats[0]['name']=='Vinyl':\n",
    "            filtered_release_list.append(release)"
   ]
  },
  {
   "cell_type": "code",
   "execution_count": 31,
   "id": "c651c113-66d7-40e7-b8e4-caf9c90a604d",
   "metadata": {},
   "outputs": [],
   "source": [
    "# A function that returns the 'year' value:\n",
    "def funcYear(e):\n",
    "  return e.year\n",
    "\n",
    "filtered_release_list.sort(reverse=True, key=funcYear)"
   ]
  },
  {
   "cell_type": "code",
   "execution_count": 32,
   "id": "ec8675bb-2c20-4d5f-998e-bb4c81fc9654",
   "metadata": {},
   "outputs": [
    {
     "name": "stdout",
     "output_type": "stream",
     "text": [
      "FILETERED RELEASES for label Artscore\n",
      "\n",
      "Title: Nostalgia\n",
      "Artists: [<Artist 6405362 'Introversion (3)'>]\n",
      "Year: 2023\n",
      "Labels: [<Label 1265272 'Artscore'>]\n",
      "Genres: ['Electronic']\n",
      "Styles: ['Techno']\n",
      "Formats: [{'name': 'Vinyl', 'qty': '1', 'descriptions': ['12\"', '33 ⅓ RPM', 'EP']}]\n",
      "Community rating average/count: 4.75/4 \n",
      "Url: https://www.discogs.com/release/29137510-Introversion-Nostalgia\n",
      "\n",
      "Title: H O Σ T I L E \n",
      "Artists: [<Artist 2363633 'Judas (11)'>]\n",
      "Year: 2022\n",
      "Labels: [<Label 1265272 'Artscore'>]\n",
      "Genres: ['Electronic']\n",
      "Styles: ['Techno']\n",
      "Formats: [{'name': 'Vinyl', 'qty': '1', 'descriptions': ['12\"']}]\n",
      "Community rating average/count: 5.0/7 \n",
      "Url: https://www.discogs.com/release/24520745-Judas-H-O-%CE%A3-T-I-L-E-\n",
      "\n",
      "Title: REM\n",
      "Artists: [<Artist 6405362 'Introversion (3)'>]\n",
      "Year: 2020\n",
      "Labels: [<Label 1265272 'Artscore'>]\n",
      "Genres: ['Electronic']\n",
      "Styles: ['Techno', 'Breakbeat']\n",
      "Formats: [{'name': 'Vinyl', 'qty': '1', 'descriptions': ['12\"', '33 ⅓ RPM', 'Stereo']}]\n",
      "Community rating average/count: 4.79/34 \n",
      "Url: https://www.discogs.com/release/16270494-Introversion-REM\n"
     ]
    }
   ],
   "source": [
    "print(\"FILETERED RELEASES for label {}\".format(result_label.name))\n",
    "for release in filtered_release_list:\n",
    "    print()\n",
    "    print(\"Title: {}\".format(release.title))\n",
    "    print(\"Artists: {}\".format(release.artists))\n",
    "    print(\"Year: {}\".format(release.year))\n",
    "    print(\"Labels: {}\".format(release.labels))\n",
    "    print(\"Genres: {}\".format(release.genres))\n",
    "    print(\"Styles: {}\".format(release.styles))\n",
    "    print(\"Formats: {}\".format(release.formats))\n",
    "    print(\"Community rating average/count: {}/{} \".format(release.community.rating.average, release.community.rating.count))\n",
    "    print(\"Url: {}\".format(release.url))"
   ]
  },
  {
   "cell_type": "code",
   "execution_count": null,
   "id": "be324b3f-3365-4d98-a40a-5312a9ef2b4f",
   "metadata": {},
   "outputs": [],
   "source": []
  }
 ],
 "metadata": {
  "kernelspec": {
   "display_name": "Python 3 (ipykernel)",
   "language": "python",
   "name": "python3"
  },
  "language_info": {
   "codemirror_mode": {
    "name": "ipython",
    "version": 3
   },
   "file_extension": ".py",
   "mimetype": "text/x-python",
   "name": "python",
   "nbconvert_exporter": "python",
   "pygments_lexer": "ipython3",
   "version": "3.10.12"
  }
 },
 "nbformat": 4,
 "nbformat_minor": 5
}
