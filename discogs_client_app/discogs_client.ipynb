{
 "cells": [
  {
   "cell_type": "code",
   "execution_count": 139,
   "id": "b595ecbf-5f09-455e-aeae-0112d1bb7bc5",
   "metadata": {},
   "outputs": [],
   "source": [
    "import discogs_client"
   ]
  },
  {
   "cell_type": "code",
   "execution_count": 140,
   "id": "7b21c25b-0dc2-421b-aff3-af5542ab2d00",
   "metadata": {},
   "outputs": [],
   "source": [
    "def readUserToken():\n",
    "    try:\n",
    "        with open(\"user_token.txt\", \"r\") as file:\n",
    "            content = file.read()\n",
    "            return content\n",
    "    except FileNotFoundError:\n",
    "        return {}\n",
    "\n",
    "d = discogs_client.Client('dardok_app/0.1', user_token='{}'.format(readUserToken().rstrip()))"
   ]
  },
  {
   "cell_type": "code",
   "execution_count": 141,
   "id": "b5b05381-69a4-463d-a4d4-ac4cbda812dd",
   "metadata": {},
   "outputs": [],
   "source": [
    "label_id = 1272706\n",
    "min_average = 4.8"
   ]
  },
  {
   "cell_type": "code",
   "execution_count": 142,
   "id": "1e275fb9-f896-43b3-bf52-2db5596ca339",
   "metadata": {},
   "outputs": [],
   "source": [
    "result_label = d.label(label_id)"
   ]
  },
  {
   "cell_type": "code",
   "execution_count": 143,
   "id": "598907af-8f10-44c8-b680-e396066aaa4e",
   "metadata": {},
   "outputs": [
    {
     "name": "stdout",
     "output_type": "stream",
     "text": [
      "\n",
      "Page: 1/1\n",
      "[<Release 26146235 'Trinity'>, <Release 26146235 'Trinity'>, <Release 14704507 'Euphoria'>, <Release 14704507 'Euphoria'>, <Release 10502778 'Gelände'>, <Release 10502778 'Gelände'>, <Release 10502778 'Gelände'>, <Release 12402975 'Abbild'>, <Release 14704507 'Euphoria'>, <Release 17282449 'Spektrum'>, <Release 23819831 'Piano Phase'>, <Release 23824595 'Piano Phase'>, <Release 24753029 'Calm & Quiet'>, <Release 26146235 'Trinity'>, <Release 26041843 'Trinity'>, <Release 28720261 'Second Nature'>, <Release 29138122 'Sonic Spectrum'>, <Release 29313661 'Sonic Spectrum'>]\n"
     ]
    }
   ],
   "source": [
    "def getFilteredReleaseListFromLabel(label):\n",
    "    \"\"\"\" A function that returns all the filtered releases from label \"\"\"\n",
    "    filtered_release_list = []\n",
    "    for k in range(1, result_label.releases.pages+1):\n",
    "        print()\n",
    "        print(\"Page: {}/{}\".format(k,result_label.releases.pages))\n",
    "        print(result_label.releases.page(k))\n",
    "        for item in result_label.releases.page(k):\n",
    "            release = d.release(item.id)       \n",
    "            if release.community.rating.average >= min_average and release.formats[0]['name']=='Vinyl':\n",
    "                filtered_release_list.append(release)\n",
    "    return filtered_release_list\n",
    "\n",
    "filtered_release_list = getFilteredReleaseListFromLabel(result_label)"
   ]
  },
  {
   "cell_type": "code",
   "execution_count": 145,
   "id": "c651c113-66d7-40e7-b8e4-caf9c90a604d",
   "metadata": {},
   "outputs": [],
   "source": [
    "def funcYear(e):\n",
    "    \"\"\"\" A function that returns the 'year' value \"\"\"\n",
    "    return e.year\n",
    "\n",
    "filtered_release_list.sort(reverse=True, key=funcYear)"
   ]
  },
  {
   "cell_type": "code",
   "execution_count": 146,
   "id": "303d154c-bf6e-4d38-949c-ff4d00e703dc",
   "metadata": {},
   "outputs": [],
   "source": [
    "# Define function to remove duplicates from an input_list by id\n",
    "def remove_duplicates(input_list):\n",
    "    \"\"\" A function to remove duplicates from a release input_list by id \"\"\"\n",
    "    unique_list = []\n",
    "    seen_ids = set()\n",
    "\n",
    "    for item in input_list:\n",
    "        item_id = item.id\n",
    "        if item_id not in seen_ids:\n",
    "            seen_ids.add(item_id)\n",
    "            unique_list.append(item)\n",
    "\n",
    "    return unique_list\n",
    "\n",
    "unique_filtered_release_list = remove_duplicates(filtered_release_list)"
   ]
  },
  {
   "cell_type": "code",
   "execution_count": 147,
   "id": "ec8675bb-2c20-4d5f-998e-bb4c81fc9654",
   "metadata": {},
   "outputs": [],
   "source": [
    "def writeOutput(label, release_list):\n",
    "    \"\"\" A function to write output as plain text\"\"\"\n",
    "    print(\"FILETERED RELEASES for label {} - id: {}\".format(label.name, label.id))\n",
    "    print(\"{}\".format(label.url))\n",
    "    for release in release_list:\n",
    "        print()\n",
    "        print(\"Title: {}\".format(release.title))\n",
    "        print(\"Artists: {}\".format(release.artists))\n",
    "        print(\"Year: {}\".format(release.year))\n",
    "        print(\"Labels: {}\".format(release.labels))\n",
    "        print(\"Genres: {}\".format(release.genres))\n",
    "        print(\"Styles: {}\".format(release.styles))\n",
    "        print(\"Formats: {}\".format(release.formats))\n",
    "        print(\"Community rating average/count: {}/{} \".format(release.community.rating.average, release.community.rating.count))\n",
    "        print(\"Url: {}\".format(release.url))\n",
    "\n",
    "# writeOutput(result_label, unique_filtered_release_list)"
   ]
  },
  {
   "cell_type": "code",
   "execution_count": 148,
   "id": "d15830e3-d9cc-490b-b747-33e593084169",
   "metadata": {},
   "outputs": [],
   "source": [
    "def get_artists(release):\n",
    "    artists = []\n",
    "    for artist in release.artists:\n",
    "        artists.append(artist.name)\n",
    "    return artists\n",
    "\n",
    "def get_labels(release):\n",
    "    labels = []\n",
    "    for label in release.labels:\n",
    "        labels.append(label.name)\n",
    "    return labels"
   ]
  },
  {
   "cell_type": "code",
   "execution_count": 149,
   "id": "a9bd9579-b33f-42a4-b09e-02e23550a7ef",
   "metadata": {},
   "outputs": [],
   "source": [
    "def writeOutputHtml(label, release_list):\n",
    "    \"\"\" A function to write output as HTML \"\"\"\n",
    "\n",
    "    htmlString = \"<html>\\n<head>\\n<title>Filtered Releases for label {} - id: {}</title>\\n</head>\\n \\\n",
    "                    <body>\\n \\\n",
    "                        <h1>Filtered Releases for label {} - id: {}</h1>\\n \\\n",
    "                        <h2>Url: <a href='{}' target='_blank' rel='noopener noreferrer'>{}</a><h2>\\n \\\n",
    "                        <br> \\\n",
    "                        Minimum community rating average filter: {}\\\n",
    "                    \".format(label.name, label.id, label.name, label.id, label.url, label.url, min_average)\n",
    "\n",
    "    htmlString += \"<ul style='list-style: none;'>\\n\"\n",
    "    for release in release_list:\n",
    "        htmlString += \"<br>\\n\"\n",
    "        htmlString += \"<li><span style='color: #9b9b9b'>Title:</span> {}</li>\\n\".format(release.title)\n",
    "        artists = get_artists(release)\n",
    "        htmlString += \"<li><span style='color: #9b9b9b'>Artists:</span> {}</li>\\n\".format(artists)\n",
    "        htmlString += \"<li><span style='color: #9b9b9b'>Year:</span> {}</li>\\n\".format(release.year)\n",
    "        labels = get_labels(release)\n",
    "        htmlString += \"<li><span style='color: #9b9b9b'>Labels:</span> {}</li>\\n\".format(labels)\n",
    "        htmlString += \"<li><span style='color: #9b9b9b'>Genres:</span> {}</li>\\n\".format(release.genres)\n",
    "        htmlString += \"<li><span style='color: #9b9b9b'>Styles:</span> {}</li>\\n\".format(release.styles)\n",
    "        htmlString += \"<li><span style='color: #9b9b9b'>Formats:</span> {}</li>\\n\".format(release.formats)\n",
    "        htmlString += \"<li><span style='color: #9b9b9b'>Community rating average/count:</span> <span style='color: #ff0000'>{}</span>/<span style='color: #ff8000'>{}</span></li>\\n\".format(release.community.rating.average, release.community.rating.count)\n",
    "        htmlString += \"<li><span style='color: #9b9b9b'>Url:</span> <a href='{}' target='_blank' rel='noopener noreferrer'>{}</a></li>\\n\".format(release.url, release.url)\n",
    "\n",
    "    htmlString += \"</ul>\\n\"\n",
    "    \n",
    "    htmlString += \"</body>\\n \\\n",
    "                  </html>\"\n",
    "\n",
    "    file_name = \"{}.html\".format(label.url.lstrip('https://www.discogs.com/label/'))\n",
    "    \n",
    "    with open(\"./outputHtml/{}\".format(file_name), \"w\") as file:\n",
    "        file.write(htmlString)\n",
    "\n",
    "writeOutputHtml(result_label, unique_filtered_release_list)"
   ]
  },
  {
   "cell_type": "code",
   "execution_count": null,
   "id": "b950aea2-1f44-4902-a074-95769504eda2",
   "metadata": {},
   "outputs": [],
   "source": []
  }
 ],
 "metadata": {
  "kernelspec": {
   "display_name": "Python 3 (ipykernel)",
   "language": "python",
   "name": "python3"
  },
  "language_info": {
   "codemirror_mode": {
    "name": "ipython",
    "version": 3
   },
   "file_extension": ".py",
   "mimetype": "text/x-python",
   "name": "python",
   "nbconvert_exporter": "python",
   "pygments_lexer": "ipython3",
   "version": "3.10.12"
  }
 },
 "nbformat": 4,
 "nbformat_minor": 5
}
