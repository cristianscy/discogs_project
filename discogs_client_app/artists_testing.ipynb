{
 "cells": [
  {
   "cell_type": "code",
   "execution_count": 1,
   "id": "bb332852-f428-448c-890d-c7a3b42dc244",
   "metadata": {},
   "outputs": [],
   "source": [
    "import discogs_client"
   ]
  },
  {
   "cell_type": "code",
   "execution_count": 2,
   "id": "85ad1534-aa65-4e62-b964-eed2524e6899",
   "metadata": {},
   "outputs": [],
   "source": [
    "def readUserToken():\n",
    "    try:\n",
    "        with open(\"user_token.env\", \"r\") as file:\n",
    "            content = file.read()\n",
    "            return content\n",
    "    except FileNotFoundError:\n",
    "        return {}\n",
    "        \n",
    "d = discogs_client.Client('dardok_app/0.1', user_token='{}'.format(readUserToken().rstrip()))"
   ]
  },
  {
   "cell_type": "code",
   "execution_count": 3,
   "id": "57d2e715-e3be-493d-b332-242dffd703c2",
   "metadata": {},
   "outputs": [],
   "source": [
    "artist_id = 5531548\n",
    "min_average = 4.8"
   ]
  },
  {
   "cell_type": "code",
   "execution_count": 4,
   "id": "18923e26-d6d7-4034-80d3-d7dcaedd487f",
   "metadata": {},
   "outputs": [
    {
     "name": "stdout",
     "output_type": "stream",
     "text": [
      "['__class__', '__delattr__', '__dict__', '__dir__', '__doc__', '__eq__', '__format__', '__ge__', '__getattribute__', '__gt__', '__hash__', '__init__', '__init_subclass__', '__le__', '__lt__', '__module__', '__ne__', '__new__', '__reduce__', '__reduce_ex__', '__repr__', '__setattr__', '__sizeof__', '__str__', '__subclasshook__', '__weakref__', '_access_token_url', '_authorize_url', '_base_url', '_check_user_agent', '_delete', '_fetcher', '_get', '_patch', '_post', '_put', '_request', '_request_token_url', 'artist', 'backoff_enabled', 'connection_timeout', 'fee_for', 'get_access_token', 'get_authorize_url', 'identity', 'label', 'list', 'listing', 'master', 'order', 'read_timeout', 'release', 'search', 'set_consumer_key', 'set_timeout', 'set_token', 'user', 'user_agent', 'verbose']\n",
      "\n",
      "['__class__', '__delattr__', '__dict__', '__dir__', '__doc__', '__eq__', '__format__', '__ge__', '__getattribute__', '__gt__', '__hash__', '__init__', '__init_subclass__', '__le__', '__lt__', '__module__', '__ne__', '__new__', '__reduce__', '__reduce_ex__', '__repr__', '__setattr__', '__sizeof__', '__str__', '__subclasshook__', '__weakref__', '_known_invalid_keys', 'aliases', 'changes', 'client', 'data', 'data_quality', 'delete', 'fetch', 'groups', 'id', 'images', 'join', 'members', 'name', 'name_variations', 'previous_request', 'profile', 'real_name', 'refresh', 'releases', 'role', 'save', 'url', 'urls']\n",
      "\n",
      "['__class__', '__delattr__', '__dict__', '__dir__', '__doc__', '__eq__', '__format__', '__ge__', '__getattribute__', '__getitem__', '__gt__', '__hash__', '__init__', '__init_subclass__', '__iter__', '__le__', '__len__', '__lt__', '__module__', '__ne__', '__new__', '__reduce__', '__reduce_ex__', '__repr__', '__setattr__', '__sizeof__', '__str__', '__subclasshook__', '__weakref__', '_filters', '_invalidate', '_list_key', '_load_pagination_info', '_num_items', '_num_pages', '_pages', '_per_page', '_sort_key', '_sort_order', '_transform', '_url_for_page', 'client', 'count', 'filter', 'page', 'pages', 'per_page', 'sort', 'url']\n"
     ]
    }
   ],
   "source": [
    "print(dir(d))\n",
    "\n",
    "result_artist = d.artist(artist_id)\n",
    "\n",
    "print()\n",
    "print(dir(result_artist))\n",
    "\n",
    "print()\n",
    "print(dir(result_artist.releases))"
   ]
  },
  {
   "cell_type": "code",
   "execution_count": 5,
   "id": "f7895fa9-d309-41da-bbc0-1db6e5138b90",
   "metadata": {},
   "outputs": [],
   "source": [
    "# COMMON FUNCTIONS\n",
    "\n",
    "def getFilteredReleaseListFromArtist(artist):\n",
    "    \"\"\" A function that returns all the filtered releases from artist \"\"\"\n",
    "    filtered_release_list = []\n",
    "    print()\n",
    "    print(\"Processing artist: {} {}...\".format(artist.name, artist.url))\n",
    "    for k in range(1, result_artist.releases.pages+1):\n",
    "        print()\n",
    "        print(\"Page: {}/{}\".format(k,result_artist.releases.pages))\n",
    "        print(result_artist.releases.page(k))\n",
    "        for item in result_artist.releases.page(k):\n",
    "            release = d.release(item.id)       \n",
    "            if release.community.rating.average >= min_average and release.formats[0]['name']=='Vinyl' and 'Electronic' in release.genres:\n",
    "                filtered_release_list.append(release)\n",
    "    print(filtered_release_list)\n",
    "    # return filtered_release_list\n"
   ]
  },
  {
   "cell_type": "code",
   "execution_count": 6,
   "id": "bb05216c-fef5-4d4a-9641-8a3811b32708",
   "metadata": {},
   "outputs": [
    {
     "name": "stdout",
     "output_type": "stream",
     "text": [
      "\n",
      "Processing artist: Verraco https://www.discogs.com/artist/5531548-Verraco...\n",
      "\n",
      "Page: 1/1\n",
      "[<Release 9556777 'Resistir'>, <Master 1961887 'New Army of Androgynes'>, <Release 11488886 \"Don't Kill'em All\">, <Release 18238102 'RA.671'>, <Master 1831655 'Grial'>, <Release 20855698 'Grial Remixes'>, <Release 28342054 'Escándaloo'>, <Master 1852017 'Megapunk (Remixes)'>, <Release 25257778 'Herrensauna Vol. 2'>, <Master 2781065 'Pliegues'>, <Master 2306245 'Tresor 30'>, <Release 12136071 'Medellín Rave Society'>, <Release 12542203 'Curated by DSH #099'>, <Release 14908504 'Música Urgente'>, <Release 14908647 'Despertar: Chile'>, <Release 18952612 'Horizontes - Vol. 4'>, <Master 2306245 'Tresor 30'>, <Release 23906087 'Desire Path'>, <Release 24936322 'no pare, sigue sigue'>, <Release 27287130 'Atlantic Stereo'>, <Release 27437412 'Desire Path'>, <Release 29356837 'Fact Mix 850'>, <Master 2872324 'Fabric Presents Nicola Cruz'>, <Master 3079121 'Fabric Selects I'>, <Release 29068300 'Los Totes 2'>, <Release 29320903 'Fact Mix 938'>]\n"
     ]
    },
    {
     "ename": "HTTPError",
     "evalue": "404: Release not found.",
     "output_type": "error",
     "traceback": [
      "\u001b[0;31m---------------------------------------------------------------------------\u001b[0m",
      "\u001b[0;31mHTTPError\u001b[0m                                 Traceback (most recent call last)",
      "Cell \u001b[0;32mIn[6], line 1\u001b[0m\n\u001b[0;32m----> 1\u001b[0m \u001b[43mgetFilteredReleaseListFromArtist\u001b[49m\u001b[43m(\u001b[49m\u001b[43mresult_artist\u001b[49m\u001b[43m)\u001b[49m\n",
      "Cell \u001b[0;32mIn[5], line 14\u001b[0m, in \u001b[0;36mgetFilteredReleaseListFromArtist\u001b[0;34m(artist)\u001b[0m\n\u001b[1;32m     12\u001b[0m     \u001b[38;5;28;01mfor\u001b[39;00m item \u001b[38;5;129;01min\u001b[39;00m result_artist\u001b[38;5;241m.\u001b[39mreleases\u001b[38;5;241m.\u001b[39mpage(k):\n\u001b[1;32m     13\u001b[0m         release \u001b[38;5;241m=\u001b[39m d\u001b[38;5;241m.\u001b[39mrelease(item\u001b[38;5;241m.\u001b[39mid)       \n\u001b[0;32m---> 14\u001b[0m         \u001b[38;5;28;01mif\u001b[39;00m \u001b[43mrelease\u001b[49m\u001b[38;5;241;43m.\u001b[39;49m\u001b[43mcommunity\u001b[49m\u001b[38;5;241m.\u001b[39mrating\u001b[38;5;241m.\u001b[39maverage \u001b[38;5;241m>\u001b[39m\u001b[38;5;241m=\u001b[39m min_average \u001b[38;5;129;01mand\u001b[39;00m release\u001b[38;5;241m.\u001b[39mformats[\u001b[38;5;241m0\u001b[39m][\u001b[38;5;124m'\u001b[39m\u001b[38;5;124mname\u001b[39m\u001b[38;5;124m'\u001b[39m]\u001b[38;5;241m==\u001b[39m\u001b[38;5;124m'\u001b[39m\u001b[38;5;124mVinyl\u001b[39m\u001b[38;5;124m'\u001b[39m \u001b[38;5;129;01mand\u001b[39;00m \u001b[38;5;124m'\u001b[39m\u001b[38;5;124mElectronic\u001b[39m\u001b[38;5;124m'\u001b[39m \u001b[38;5;129;01min\u001b[39;00m release\u001b[38;5;241m.\u001b[39mgenres:\n\u001b[1;32m     15\u001b[0m             filtered_release_list\u001b[38;5;241m.\u001b[39mappend(release)\n\u001b[1;32m     16\u001b[0m \u001b[38;5;28mprint\u001b[39m(filtered_release_list)\n",
      "File \u001b[0;32m~/pyenvs/myenv/lib/python3.10/site-packages/discogs_client/models.py:65\u001b[0m, in \u001b[0;36mObjectFieldDescriptor.__get__\u001b[0;34m(self, instance, owner)\u001b[0m\n\u001b[1;32m     63\u001b[0m     \u001b[38;5;28;01mreturn\u001b[39;00m \u001b[38;5;28mself\u001b[39m\n\u001b[1;32m     64\u001b[0m wrapper_class \u001b[38;5;241m=\u001b[39m CLASS_MAP[\u001b[38;5;28mself\u001b[39m\u001b[38;5;241m.\u001b[39mclass_name\u001b[38;5;241m.\u001b[39mlower()]\n\u001b[0;32m---> 65\u001b[0m response_dict \u001b[38;5;241m=\u001b[39m \u001b[43minstance\u001b[49m\u001b[38;5;241;43m.\u001b[39;49m\u001b[43mfetch\u001b[49m\u001b[43m(\u001b[49m\u001b[38;5;28;43mself\u001b[39;49m\u001b[38;5;241;43m.\u001b[39;49m\u001b[43mname\u001b[49m\u001b[43m)\u001b[49m\n\u001b[1;32m     66\u001b[0m \u001b[38;5;28;01mif\u001b[39;00m \u001b[38;5;28mself\u001b[39m\u001b[38;5;241m.\u001b[39moptional \u001b[38;5;129;01mand\u001b[39;00m \u001b[38;5;129;01mnot\u001b[39;00m response_dict:\n\u001b[1;32m     67\u001b[0m     \u001b[38;5;28;01mreturn\u001b[39;00m \u001b[38;5;28;01mNone\u001b[39;00m\n",
      "File \u001b[0;32m~/pyenvs/myenv/lib/python3.10/site-packages/discogs_client/models.py:245\u001b[0m, in \u001b[0;36mPrimaryAPIObject.fetch\u001b[0;34m(self, key, default)\u001b[0m\n\u001b[1;32m    241\u001b[0m     \u001b[38;5;28;01mreturn\u001b[39;00m default\n\u001b[1;32m    243\u001b[0m \u001b[38;5;66;03m# Now refresh the object from its resource_url.\u001b[39;00m\n\u001b[1;32m    244\u001b[0m \u001b[38;5;66;03m# The key might exist but not be in our cache.\u001b[39;00m\n\u001b[0;32m--> 245\u001b[0m \u001b[38;5;28;43mself\u001b[39;49m\u001b[38;5;241;43m.\u001b[39;49m\u001b[43mrefresh\u001b[49m\u001b[43m(\u001b[49m\u001b[43m)\u001b[49m\n\u001b[1;32m    247\u001b[0m \u001b[38;5;28;01mtry\u001b[39;00m:\n\u001b[1;32m    248\u001b[0m     \u001b[38;5;28;01mreturn\u001b[39;00m \u001b[38;5;28mself\u001b[39m\u001b[38;5;241m.\u001b[39mdata[key]\n",
      "File \u001b[0;32m~/pyenvs/myenv/lib/python3.10/site-packages/discogs_client/models.py:204\u001b[0m, in \u001b[0;36mPrimaryAPIObject.refresh\u001b[0;34m(self)\u001b[0m\n\u001b[1;32m    202\u001b[0m \u001b[38;5;28;01mdef\u001b[39;00m \u001b[38;5;21mrefresh\u001b[39m(\u001b[38;5;28mself\u001b[39m):\n\u001b[1;32m    203\u001b[0m     \u001b[38;5;28;01mif\u001b[39;00m \u001b[38;5;28mself\u001b[39m\u001b[38;5;241m.\u001b[39mdata\u001b[38;5;241m.\u001b[39mget(\u001b[38;5;124m'\u001b[39m\u001b[38;5;124mresource_url\u001b[39m\u001b[38;5;124m'\u001b[39m):\n\u001b[0;32m--> 204\u001b[0m         data \u001b[38;5;241m=\u001b[39m \u001b[38;5;28;43mself\u001b[39;49m\u001b[38;5;241;43m.\u001b[39;49m\u001b[43mclient\u001b[49m\u001b[38;5;241;43m.\u001b[39;49m\u001b[43m_get\u001b[49m\u001b[43m(\u001b[49m\u001b[38;5;28;43mself\u001b[39;49m\u001b[38;5;241;43m.\u001b[39;49m\u001b[43mdata\u001b[49m\u001b[43m[\u001b[49m\u001b[38;5;124;43m'\u001b[39;49m\u001b[38;5;124;43mresource_url\u001b[39;49m\u001b[38;5;124;43m'\u001b[39;49m\u001b[43m]\u001b[49m\u001b[43m)\u001b[49m\n\u001b[1;32m    205\u001b[0m         \u001b[38;5;28mself\u001b[39m\u001b[38;5;241m.\u001b[39mdata\u001b[38;5;241m.\u001b[39mupdate(data)\n\u001b[1;32m    206\u001b[0m         \u001b[38;5;28mself\u001b[39m\u001b[38;5;241m.\u001b[39mchanges \u001b[38;5;241m=\u001b[39m {}\n",
      "File \u001b[0;32m~/pyenvs/myenv/lib/python3.10/site-packages/discogs_client/client.py:114\u001b[0m, in \u001b[0;36mClient._get\u001b[0;34m(self, url)\u001b[0m\n\u001b[1;32m    113\u001b[0m \u001b[38;5;28;01mdef\u001b[39;00m \u001b[38;5;21m_get\u001b[39m(\u001b[38;5;28mself\u001b[39m, url):\n\u001b[0;32m--> 114\u001b[0m     \u001b[38;5;28;01mreturn\u001b[39;00m \u001b[38;5;28;43mself\u001b[39;49m\u001b[38;5;241;43m.\u001b[39;49m\u001b[43m_request\u001b[49m\u001b[43m(\u001b[49m\u001b[38;5;124;43m'\u001b[39;49m\u001b[38;5;124;43mGET\u001b[39;49m\u001b[38;5;124;43m'\u001b[39;49m\u001b[43m,\u001b[49m\u001b[43m \u001b[49m\u001b[43murl\u001b[49m\u001b[43m)\u001b[49m\n",
      "File \u001b[0;32m~/pyenvs/myenv/lib/python3.10/site-packages/discogs_client/client.py:111\u001b[0m, in \u001b[0;36mClient._request\u001b[0;34m(self, method, url, data)\u001b[0m\n\u001b[1;32m    109\u001b[0m     \u001b[38;5;28;01mreturn\u001b[39;00m body\n\u001b[1;32m    110\u001b[0m \u001b[38;5;28;01melse\u001b[39;00m:\n\u001b[0;32m--> 111\u001b[0m     \u001b[38;5;28;01mraise\u001b[39;00m HTTPError(body[\u001b[38;5;124m'\u001b[39m\u001b[38;5;124mmessage\u001b[39m\u001b[38;5;124m'\u001b[39m], status_code)\n",
      "\u001b[0;31mHTTPError\u001b[0m: 404: Release not found."
     ]
    }
   ],
   "source": [
    "getFilteredReleaseListFromArtist(result_artist)"
   ]
  },
  {
   "cell_type": "code",
   "execution_count": null,
   "id": "e50e3f75-c823-4f0e-9b5b-779d433274a3",
   "metadata": {},
   "outputs": [],
   "source": []
  }
 ],
 "metadata": {
  "kernelspec": {
   "display_name": "Python 3 (ipykernel)",
   "language": "python",
   "name": "python3"
  },
  "language_info": {
   "codemirror_mode": {
    "name": "ipython",
    "version": 3
   },
   "file_extension": ".py",
   "mimetype": "text/x-python",
   "name": "python",
   "nbconvert_exporter": "python",
   "pygments_lexer": "ipython3",
   "version": "3.10.12"
  }
 },
 "nbformat": 4,
 "nbformat_minor": 5
}
