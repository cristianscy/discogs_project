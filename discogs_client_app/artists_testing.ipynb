{
 "cells": [
  {
   "cell_type": "code",
   "execution_count": 31,
   "id": "bb332852-f428-448c-890d-c7a3b42dc244",
   "metadata": {},
   "outputs": [],
   "source": [
    "import discogs_client"
   ]
  },
  {
   "cell_type": "code",
   "execution_count": 32,
   "id": "85ad1534-aa65-4e62-b964-eed2524e6899",
   "metadata": {},
   "outputs": [],
   "source": [
    "def readUserToken():\n",
    "    try:\n",
    "        with open(\"user_token.env\", \"r\") as file:\n",
    "            content = file.read()\n",
    "            return content\n",
    "    except FileNotFoundError:\n",
    "        return {}\n",
    "        \n",
    "d = discogs_client.Client('dardok_app/0.1', user_token='{}'.format(readUserToken().rstrip()))"
   ]
  },
  {
   "cell_type": "code",
   "execution_count": 33,
   "id": "57d2e715-e3be-493d-b332-242dffd703c2",
   "metadata": {},
   "outputs": [],
   "source": [
    "artist_id = 1451990\n",
    "min_average = 4.8"
   ]
  },
  {
   "cell_type": "code",
   "execution_count": 34,
   "id": "18923e26-d6d7-4034-80d3-d7dcaedd487f",
   "metadata": {},
   "outputs": [
    {
     "name": "stdout",
     "output_type": "stream",
     "text": [
      "['__class__', '__delattr__', '__dict__', '__dir__', '__doc__', '__eq__', '__format__', '__ge__', '__getattribute__', '__gt__', '__hash__', '__init__', '__init_subclass__', '__le__', '__lt__', '__module__', '__ne__', '__new__', '__reduce__', '__reduce_ex__', '__repr__', '__setattr__', '__sizeof__', '__str__', '__subclasshook__', '__weakref__', '_access_token_url', '_authorize_url', '_base_url', '_check_user_agent', '_delete', '_fetcher', '_get', '_patch', '_post', '_put', '_request', '_request_token_url', 'artist', 'backoff_enabled', 'connection_timeout', 'fee_for', 'get_access_token', 'get_authorize_url', 'identity', 'label', 'list', 'listing', 'master', 'order', 'read_timeout', 'release', 'search', 'set_consumer_key', 'set_timeout', 'set_token', 'user', 'user_agent', 'verbose']\n",
      "\n",
      "['__class__', '__delattr__', '__dict__', '__dir__', '__doc__', '__eq__', '__format__', '__ge__', '__getattribute__', '__gt__', '__hash__', '__init__', '__init_subclass__', '__le__', '__lt__', '__module__', '__ne__', '__new__', '__reduce__', '__reduce_ex__', '__repr__', '__setattr__', '__sizeof__', '__str__', '__subclasshook__', '__weakref__', '_known_invalid_keys', 'aliases', 'changes', 'client', 'data', 'data_quality', 'delete', 'fetch', 'groups', 'id', 'images', 'join', 'members', 'name', 'name_variations', 'previous_request', 'profile', 'real_name', 'refresh', 'releases', 'role', 'save', 'url', 'urls']\n",
      "\n",
      "['__class__', '__delattr__', '__dict__', '__dir__', '__doc__', '__eq__', '__format__', '__ge__', '__getattribute__', '__getitem__', '__gt__', '__hash__', '__init__', '__init_subclass__', '__iter__', '__le__', '__len__', '__lt__', '__module__', '__ne__', '__new__', '__reduce__', '__reduce_ex__', '__repr__', '__setattr__', '__sizeof__', '__str__', '__subclasshook__', '__weakref__', '_filters', '_invalidate', '_list_key', '_load_pagination_info', '_num_items', '_num_pages', '_pages', '_per_page', '_sort_key', '_sort_order', '_transform', '_url_for_page', 'client', 'count', 'filter', 'page', 'pages', 'per_page', 'sort', 'url']\n"
     ]
    }
   ],
   "source": [
    "print(dir(d))\n",
    "\n",
    "result_artist = d.artist(artist_id)\n",
    "\n",
    "print()\n",
    "print(dir(result_artist))\n",
    "\n",
    "print()\n",
    "print(dir(result_artist.releases))"
   ]
  },
  {
   "cell_type": "code",
   "execution_count": 37,
   "id": "f7895fa9-d309-41da-bbc0-1db6e5138b90",
   "metadata": {},
   "outputs": [],
   "source": [
    "# COMMON FUNCTIONS\n",
    "\n",
    "def getFilteredReleaseListFromArtist(artist):\n",
    "    \"\"\" A function that returns all the filtered releases from artist \"\"\"\n",
    "    filtered_release_list = []\n",
    "    print()\n",
    "    print(\"Processing artist: {} {}...\".format(artist.name, artist.url))\n",
    "    for k in range(1, result_artist.releases.pages+1):\n",
    "        print()\n",
    "        print(\"Page: {}/{}\".format(k,result_artist.releases.pages))\n",
    "        print(result_artist.releases.page(k))\n",
    "        for item in result_artist.releases.page(k):\n",
    "            release = d.release(item.id)       \n",
    "            if release.community.rating.average >= min_average and release.formats[0]['name']=='Vinyl' and 'Electronic' in release.genres:\n",
    "                filtered_release_list.append(release)\n",
    "    print(filtered_release_list)\n",
    "    # return filtered_release_list\n"
   ]
  },
  {
   "cell_type": "code",
   "execution_count": 38,
   "id": "bb05216c-fef5-4d4a-9641-8a3811b32708",
   "metadata": {},
   "outputs": [
    {
     "name": "stdout",
     "output_type": "stream",
     "text": [
      "\n",
      "Processing artist: Asusu https://www.discogs.com/artist/1451990-Asusu...\n",
      "\n",
      "Page: 1/1\n",
      "[<Release 2014207 'Small Hours / Taurean'>, <Release 2296396 'Togetherness / Horizons (Asusu Remix)'>, <Release 2498307 'No Kya'>, <Master 413449 'Sister'>, <Release 4663619 'Velez / Rendering'>, <Release 5013363 'Surge / Remnants'>, <Release 5763421 'MM/KM & Dresvn Remixes'>, <Master 745601 'A Made Up Sound Remixes 1 & 2'>, <Master 747214 'MMM & Pangaea Remixes'>, <Master 744015 'Surgeon & Nick Höppner Remixes'>, <Release 6661530 'Serra EP'>, <Release 7631446 'Secret Thirteen Mix 156'>, <Release 7747820 'Trephine'>, <Release 9155008 'Hallucinator '>, <Master 823811 'Decay Versions Pt. 1'>, <Master 1694579 'Remixed'>, <Release 10447414 'Remixes - 1'>, <Release 6009879 'Broadwalk And Friends'>, <Master 233632 'DubKraft Records - The First 3 Years'>, <Release 5586682 'A Colourful Storm 002'>, <Release 17882686 'Dub is Eternal - The 420 Dubkraft Anthology'>, <Release 5644401 'Podcast 322'>, <Release 7734120 'A Colourful Storm 037'>, <Master 611481 'Livity Sound'>, <Release 5633834 'RA.407'>, <Release 6009879 'Broadwalk And Friends'>, <Release 6233852 'Groove 151 CD 60'>, <Release 6291664 'Livity Sound Remixes'>, <Release 6462599 'Podcast 334: Efdemin'>, <Release 25650721 'Heavily Cyborg'>, <Release 25692760 'Nothing Is Over'>, <Release 25733017 'Consolidated Systems'>, <Release 26870672 'Not Built For Fourplay'>, <Master 725574 'Pinch B2B Mumdance'>, <Release 6524385 'Podcast 373'>, <Release 6810472 'Mix For Tsugi'>, <Release 7797751 'XPLAYMIX 24 | 2015'>, <Release 7824378 'soundscape mix 002'>, <Release 11874220 \"Invite's Choice Podcast 230\">, <Release 11546594 'Aivazovsky Waves Podcast: Takaaki Itoh'>, <Release 28260142 'Escaping The Patch'>, <Release 12588629 'Sounds From NoWhere 064'>, <Release 12918937 'A High Fly To Left Field'>, <Release 14236243 'Pinch & Peverelist Present: In Deep'>, <Release 20757673 'Carbon Synthwave Sound'>]\n"
     ]
    },
    {
     "ename": "HTTPError",
     "evalue": "404: Release not found.",
     "output_type": "error",
     "traceback": [
      "\u001b[0;31m---------------------------------------------------------------------------\u001b[0m",
      "\u001b[0;31mHTTPError\u001b[0m                                 Traceback (most recent call last)",
      "Cell \u001b[0;32mIn[38], line 1\u001b[0m\n\u001b[0;32m----> 1\u001b[0m \u001b[43mgetFilteredReleaseListFromArtist\u001b[49m\u001b[43m(\u001b[49m\u001b[43mresult_artist\u001b[49m\u001b[43m)\u001b[49m\n",
      "Cell \u001b[0;32mIn[37], line 14\u001b[0m, in \u001b[0;36mgetFilteredReleaseListFromArtist\u001b[0;34m(artist)\u001b[0m\n\u001b[1;32m     12\u001b[0m     \u001b[38;5;28;01mfor\u001b[39;00m item \u001b[38;5;129;01min\u001b[39;00m result_artist\u001b[38;5;241m.\u001b[39mreleases\u001b[38;5;241m.\u001b[39mpage(k):\n\u001b[1;32m     13\u001b[0m         release \u001b[38;5;241m=\u001b[39m d\u001b[38;5;241m.\u001b[39mrelease(item\u001b[38;5;241m.\u001b[39mid)       \n\u001b[0;32m---> 14\u001b[0m         \u001b[38;5;28;01mif\u001b[39;00m \u001b[43mrelease\u001b[49m\u001b[38;5;241;43m.\u001b[39;49m\u001b[43mcommunity\u001b[49m\u001b[38;5;241m.\u001b[39mrating\u001b[38;5;241m.\u001b[39maverage \u001b[38;5;241m>\u001b[39m\u001b[38;5;241m=\u001b[39m min_average \u001b[38;5;129;01mand\u001b[39;00m release\u001b[38;5;241m.\u001b[39mformats[\u001b[38;5;241m0\u001b[39m][\u001b[38;5;124m'\u001b[39m\u001b[38;5;124mname\u001b[39m\u001b[38;5;124m'\u001b[39m]\u001b[38;5;241m==\u001b[39m\u001b[38;5;124m'\u001b[39m\u001b[38;5;124mVinyl\u001b[39m\u001b[38;5;124m'\u001b[39m \u001b[38;5;129;01mand\u001b[39;00m \u001b[38;5;124m'\u001b[39m\u001b[38;5;124mElectronic\u001b[39m\u001b[38;5;124m'\u001b[39m \u001b[38;5;129;01min\u001b[39;00m release\u001b[38;5;241m.\u001b[39mgenres:\n\u001b[1;32m     15\u001b[0m             filtered_release_list\u001b[38;5;241m.\u001b[39mappend(release)\n\u001b[1;32m     16\u001b[0m \u001b[38;5;28mprint\u001b[39m(filtered_release_list)\n",
      "File \u001b[0;32m~/development/pyenvs/discogs_pyenv/lib/python3.10/site-packages/discogs_client/models.py:65\u001b[0m, in \u001b[0;36mObjectFieldDescriptor.__get__\u001b[0;34m(self, instance, owner)\u001b[0m\n\u001b[1;32m     63\u001b[0m     \u001b[38;5;28;01mreturn\u001b[39;00m \u001b[38;5;28mself\u001b[39m\n\u001b[1;32m     64\u001b[0m wrapper_class \u001b[38;5;241m=\u001b[39m CLASS_MAP[\u001b[38;5;28mself\u001b[39m\u001b[38;5;241m.\u001b[39mclass_name\u001b[38;5;241m.\u001b[39mlower()]\n\u001b[0;32m---> 65\u001b[0m response_dict \u001b[38;5;241m=\u001b[39m \u001b[43minstance\u001b[49m\u001b[38;5;241;43m.\u001b[39;49m\u001b[43mfetch\u001b[49m\u001b[43m(\u001b[49m\u001b[38;5;28;43mself\u001b[39;49m\u001b[38;5;241;43m.\u001b[39;49m\u001b[43mname\u001b[49m\u001b[43m)\u001b[49m\n\u001b[1;32m     66\u001b[0m \u001b[38;5;28;01mif\u001b[39;00m \u001b[38;5;28mself\u001b[39m\u001b[38;5;241m.\u001b[39moptional \u001b[38;5;129;01mand\u001b[39;00m \u001b[38;5;129;01mnot\u001b[39;00m response_dict:\n\u001b[1;32m     67\u001b[0m     \u001b[38;5;28;01mreturn\u001b[39;00m \u001b[38;5;28;01mNone\u001b[39;00m\n",
      "File \u001b[0;32m~/development/pyenvs/discogs_pyenv/lib/python3.10/site-packages/discogs_client/models.py:245\u001b[0m, in \u001b[0;36mPrimaryAPIObject.fetch\u001b[0;34m(self, key, default)\u001b[0m\n\u001b[1;32m    241\u001b[0m     \u001b[38;5;28;01mreturn\u001b[39;00m default\n\u001b[1;32m    243\u001b[0m \u001b[38;5;66;03m# Now refresh the object from its resource_url.\u001b[39;00m\n\u001b[1;32m    244\u001b[0m \u001b[38;5;66;03m# The key might exist but not be in our cache.\u001b[39;00m\n\u001b[0;32m--> 245\u001b[0m \u001b[38;5;28;43mself\u001b[39;49m\u001b[38;5;241;43m.\u001b[39;49m\u001b[43mrefresh\u001b[49m\u001b[43m(\u001b[49m\u001b[43m)\u001b[49m\n\u001b[1;32m    247\u001b[0m \u001b[38;5;28;01mtry\u001b[39;00m:\n\u001b[1;32m    248\u001b[0m     \u001b[38;5;28;01mreturn\u001b[39;00m \u001b[38;5;28mself\u001b[39m\u001b[38;5;241m.\u001b[39mdata[key]\n",
      "File \u001b[0;32m~/development/pyenvs/discogs_pyenv/lib/python3.10/site-packages/discogs_client/models.py:204\u001b[0m, in \u001b[0;36mPrimaryAPIObject.refresh\u001b[0;34m(self)\u001b[0m\n\u001b[1;32m    202\u001b[0m \u001b[38;5;28;01mdef\u001b[39;00m \u001b[38;5;21mrefresh\u001b[39m(\u001b[38;5;28mself\u001b[39m):\n\u001b[1;32m    203\u001b[0m     \u001b[38;5;28;01mif\u001b[39;00m \u001b[38;5;28mself\u001b[39m\u001b[38;5;241m.\u001b[39mdata\u001b[38;5;241m.\u001b[39mget(\u001b[38;5;124m'\u001b[39m\u001b[38;5;124mresource_url\u001b[39m\u001b[38;5;124m'\u001b[39m):\n\u001b[0;32m--> 204\u001b[0m         data \u001b[38;5;241m=\u001b[39m \u001b[38;5;28;43mself\u001b[39;49m\u001b[38;5;241;43m.\u001b[39;49m\u001b[43mclient\u001b[49m\u001b[38;5;241;43m.\u001b[39;49m\u001b[43m_get\u001b[49m\u001b[43m(\u001b[49m\u001b[38;5;28;43mself\u001b[39;49m\u001b[38;5;241;43m.\u001b[39;49m\u001b[43mdata\u001b[49m\u001b[43m[\u001b[49m\u001b[38;5;124;43m'\u001b[39;49m\u001b[38;5;124;43mresource_url\u001b[39;49m\u001b[38;5;124;43m'\u001b[39;49m\u001b[43m]\u001b[49m\u001b[43m)\u001b[49m\n\u001b[1;32m    205\u001b[0m         \u001b[38;5;28mself\u001b[39m\u001b[38;5;241m.\u001b[39mdata\u001b[38;5;241m.\u001b[39mupdate(data)\n\u001b[1;32m    206\u001b[0m         \u001b[38;5;28mself\u001b[39m\u001b[38;5;241m.\u001b[39mchanges \u001b[38;5;241m=\u001b[39m {}\n",
      "File \u001b[0;32m~/development/pyenvs/discogs_pyenv/lib/python3.10/site-packages/discogs_client/client.py:114\u001b[0m, in \u001b[0;36mClient._get\u001b[0;34m(self, url)\u001b[0m\n\u001b[1;32m    113\u001b[0m \u001b[38;5;28;01mdef\u001b[39;00m \u001b[38;5;21m_get\u001b[39m(\u001b[38;5;28mself\u001b[39m, url):\n\u001b[0;32m--> 114\u001b[0m     \u001b[38;5;28;01mreturn\u001b[39;00m \u001b[38;5;28;43mself\u001b[39;49m\u001b[38;5;241;43m.\u001b[39;49m\u001b[43m_request\u001b[49m\u001b[43m(\u001b[49m\u001b[38;5;124;43m'\u001b[39;49m\u001b[38;5;124;43mGET\u001b[39;49m\u001b[38;5;124;43m'\u001b[39;49m\u001b[43m,\u001b[49m\u001b[43m \u001b[49m\u001b[43murl\u001b[49m\u001b[43m)\u001b[49m\n",
      "File \u001b[0;32m~/development/pyenvs/discogs_pyenv/lib/python3.10/site-packages/discogs_client/client.py:111\u001b[0m, in \u001b[0;36mClient._request\u001b[0;34m(self, method, url, data)\u001b[0m\n\u001b[1;32m    109\u001b[0m     \u001b[38;5;28;01mreturn\u001b[39;00m body\n\u001b[1;32m    110\u001b[0m \u001b[38;5;28;01melse\u001b[39;00m:\n\u001b[0;32m--> 111\u001b[0m     \u001b[38;5;28;01mraise\u001b[39;00m HTTPError(body[\u001b[38;5;124m'\u001b[39m\u001b[38;5;124mmessage\u001b[39m\u001b[38;5;124m'\u001b[39m], status_code)\n",
      "\u001b[0;31mHTTPError\u001b[0m: 404: Release not found."
     ]
    }
   ],
   "source": [
    "getFilteredReleaseListFromArtist(result_artist)"
   ]
  },
  {
   "cell_type": "code",
   "execution_count": null,
   "id": "e50e3f75-c823-4f0e-9b5b-779d433274a3",
   "metadata": {},
   "outputs": [],
   "source": []
  }
 ],
 "metadata": {
  "kernelspec": {
   "display_name": "Python 3 (ipykernel)",
   "language": "python",
   "name": "python3"
  },
  "language_info": {
   "codemirror_mode": {
    "name": "ipython",
    "version": 3
   },
   "file_extension": ".py",
   "mimetype": "text/x-python",
   "name": "python",
   "nbconvert_exporter": "python",
   "pygments_lexer": "ipython3",
   "version": "3.10.12"
  }
 },
 "nbformat": 4,
 "nbformat_minor": 5
}
