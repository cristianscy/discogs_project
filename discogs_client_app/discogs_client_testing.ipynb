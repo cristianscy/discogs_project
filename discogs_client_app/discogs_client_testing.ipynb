{
 "cells": [
  {
   "cell_type": "code",
   "execution_count": 24,
   "id": "b595ecbf-5f09-455e-aeae-0112d1bb7bc5",
   "metadata": {},
   "outputs": [],
   "source": [
    "import discogs_client"
   ]
  },
  {
   "cell_type": "code",
   "execution_count": 25,
   "id": "7b21c25b-0dc2-421b-aff3-af5542ab2d00",
   "metadata": {},
   "outputs": [
    {
     "name": "stdout",
     "output_type": "stream",
     "text": [
      "GsITksyKIMpjSNxnAFzqDEcZUkipRCvUoyjVhNnN\n",
      "\n"
     ]
    }
   ],
   "source": [
    "def readUserToken():\n",
    "    try:\n",
    "        with open(\"user_token.txt\", \"r\") as file:\n",
    "            content = file.read()\n",
    "            return content\n",
    "    except FileNotFoundError:\n",
    "        return {}\n",
    "\n",
    "d = discogs_client.Client('dardok_app/0.1', user_token='{}'.format(readUserToken().rstrip()))"
   ]
  },
  {
   "cell_type": "code",
   "execution_count": 26,
   "id": "b5b05381-69a4-463d-a4d4-ac4cbda812dd",
   "metadata": {},
   "outputs": [],
   "source": [
    "label_id = 1120990\n",
    "min_average = 4.8"
   ]
  },
  {
   "cell_type": "code",
   "execution_count": 27,
   "id": "1e275fb9-f896-43b3-bf52-2db5596ca339",
   "metadata": {},
   "outputs": [],
   "source": [
    "result_label = d.label(label_id)"
   ]
  },
  {
   "cell_type": "code",
   "execution_count": 28,
   "id": "c4e9f7fe-98b0-4b2c-b8c8-104069961370",
   "metadata": {},
   "outputs": [
    {
     "name": "stdout",
     "output_type": "stream",
     "text": [
      "\n",
      "Page: 1/2\n",
      "[<Release 18877696 'Shifting Sands'>, <Release 27013410 'MINERAL06'>, <Release 16200797 'Trip 2 Fantasy'>, <Release 21106699 'Sans Musique'>, <Release 22917359 'Plooi'>, <Release 11738813 'Elsewhere MMDLXXVI'>, <Release 15420267 'Plooi'>, <Release 14712441 'Systems E.P. 1'>, <Release 10331243 'X-Ray Records 1992-1994'>, <Release 27171669 'VT Trad'>, <Release 16875294 'The Works EP'>, <Release 28250098 'Felt Cute EP'>, <Release 27014514 'Hallways'>, <Release 23820383 'Alltogethernow EP'>, <Release 20399167 'Scope Zone'>, <Release 23667542 'Mineral 05'>, <Release 17446804 'Tri-Phase EP'>, <Release 24779081 'Suite EP'>, <Release 16875420 'The Works EP - The Unreleased Mixes'>, <Release 17548189 'The Works E.P.'>, <Release 21614911 'AI Calculator'>, <Release 19036693 'Moments In / Imprinting Day'>, <Release 16200797 'Trip 2 Fantasy'>, <Release 24779081 'Suite EP'>, <Release 9513907 'Somewhere In The Tapes'>, <Release 11738813 'Elsewhere MMDLXXVI'>, <Release 12270060 'Foreign Depths'>, <Release 12713353 'Hand In Hand (The Remixes)'>, <Release 13144981 'Indians And Aliens'>, <Release 14574905 'Cerebral Navigators: Anthology 1993-1997'>, <Release 14152121 'Cerebral Navigators: Anthology 1993-1997'>, <Release 14584415 'Cerebral Navigators: Anthology 1993-1997'>, <Release 13039985 \"What's Your Star Sign?\">, <Release 14526375 'Chaos Light EP'>, <Release 13274881 'Chaos Light EP'>, <Release 14002348 'Maze Dream EP'>, <Release 14311586 'Digital Natives EP'>, <Release 10057014 'Blow It Up'>, <Release 17548189 'The Works E.P.'>, <Release 16875438 'The Works E.P.'>, <Release 16875294 'The Works EP'>, <Release 16875420 'The Works EP - The Unreleased Mixes'>, <Release 14588794 'Synesthesia'>, <Release 14712441 'Systems E.P. 1'>, <Release 14779175 'Sandtrax'>, <Release 14887533 'Gamma'>, <Release 15240504 'Phasic Reflex'>, <Release 16398999 'Lazulination EP'>, <Release 22917359 'Plooi'>, <Release 15420267 'Plooi'>]\n",
      "\n",
      "Page: 2/2\n",
      "[<Release 18218857 'Tri-Phase EP'>, <Release 17446804 'Tri-Phase EP'>, <Release 10056974 'Hand In Hand'>, <Release 19410595 'myDEFINITION'>, <Release 19821589 'Golem'>, <Release 21614911 'AI Calculator'>, <Release 18877696 'Shifting Sands'>, <Release 21106699 'Sans Musique'>, <Release 22272487 'Elsewhere XX'>, <Release 20399167 'Scope Zone'>, <Release 22590155 'Metric EP'>, <Release 23328458 'Rainalice'>, <Release 25160593 'Suite'>, <Release 10331243 'X-Ray Records 1992-1994'>, <Release 18496444 'X-Ray Records 1992-1994'>, <Release 16167582 'X-Ray Records 1992-1994'>, <Release 26506289 'The Chants Of The Holy Oyster'>, <Release 24226925 'Fancy Feast EP'>, <Release 23820383 'Alltogethernow EP'>, <Release 24244328 'Alltogethernow EP'>, <Release 25237675 'Voyria'>, <Release 27014514 'Hallways'>, <Release 27171669 'VT Trad'>, <Release 25661470 'VT Trad'>, <Release 28250098 'Felt Cute EP'>, <Release 27303933 'Lola Ran'>, <Release 10616813 'Out Of Body'>, <Release 27862698 'Duality Of The Gecko'>, <Release 28474504 'Rivulets'>, <Release 28998655 'Hear Me Neigh '>, <Release 28718971 'Gaze EP'>, <Release 10953840 'Violet 29'>, <Release 11176860 'Age Of White'>, <Release 11294279 'Singapore'>, <Release 11550425 'Mwah'>, <Release 16159405 'Untitled'>, <Release 12863054 'Let There Be Drums'>, <Release 13503400 'Tikitaka'>, <Release 22348612 '1739'>]\n"
     ]
    },
    {
     "ename": "KeyboardInterrupt",
     "evalue": "",
     "output_type": "error",
     "traceback": [
      "\u001b[0;31m---------------------------------------------------------------------------\u001b[0m",
      "\u001b[0;31mKeyboardInterrupt\u001b[0m                         Traceback (most recent call last)",
      "Cell \u001b[0;32mIn[28], line 8\u001b[0m\n\u001b[1;32m      6\u001b[0m \u001b[38;5;28;01mfor\u001b[39;00m item \u001b[38;5;129;01min\u001b[39;00m result_label\u001b[38;5;241m.\u001b[39mreleases\u001b[38;5;241m.\u001b[39mpage(k):\n\u001b[1;32m      7\u001b[0m     release \u001b[38;5;241m=\u001b[39m d\u001b[38;5;241m.\u001b[39mrelease(item\u001b[38;5;241m.\u001b[39mid)       \n\u001b[0;32m----> 8\u001b[0m     \u001b[38;5;28;01mif\u001b[39;00m \u001b[43mrelease\u001b[49m\u001b[38;5;241;43m.\u001b[39;49m\u001b[43mcommunity\u001b[49m\u001b[38;5;241m.\u001b[39mrating\u001b[38;5;241m.\u001b[39maverage \u001b[38;5;241m>\u001b[39m\u001b[38;5;241m=\u001b[39m min_average \u001b[38;5;129;01mand\u001b[39;00m release\u001b[38;5;241m.\u001b[39mformats[\u001b[38;5;241m0\u001b[39m][\u001b[38;5;124m'\u001b[39m\u001b[38;5;124mname\u001b[39m\u001b[38;5;124m'\u001b[39m]\u001b[38;5;241m==\u001b[39m\u001b[38;5;124m'\u001b[39m\u001b[38;5;124mVinyl\u001b[39m\u001b[38;5;124m'\u001b[39m:\n\u001b[1;32m      9\u001b[0m         filtered_release_list\u001b[38;5;241m.\u001b[39mappend(release)\n",
      "File \u001b[0;32m~/pyenvs/myenv/lib/python3.10/site-packages/discogs_client/models.py:65\u001b[0m, in \u001b[0;36mObjectFieldDescriptor.__get__\u001b[0;34m(self, instance, owner)\u001b[0m\n\u001b[1;32m     63\u001b[0m     \u001b[38;5;28;01mreturn\u001b[39;00m \u001b[38;5;28mself\u001b[39m\n\u001b[1;32m     64\u001b[0m wrapper_class \u001b[38;5;241m=\u001b[39m CLASS_MAP[\u001b[38;5;28mself\u001b[39m\u001b[38;5;241m.\u001b[39mclass_name\u001b[38;5;241m.\u001b[39mlower()]\n\u001b[0;32m---> 65\u001b[0m response_dict \u001b[38;5;241m=\u001b[39m \u001b[43minstance\u001b[49m\u001b[38;5;241;43m.\u001b[39;49m\u001b[43mfetch\u001b[49m\u001b[43m(\u001b[49m\u001b[38;5;28;43mself\u001b[39;49m\u001b[38;5;241;43m.\u001b[39;49m\u001b[43mname\u001b[49m\u001b[43m)\u001b[49m\n\u001b[1;32m     66\u001b[0m \u001b[38;5;28;01mif\u001b[39;00m \u001b[38;5;28mself\u001b[39m\u001b[38;5;241m.\u001b[39moptional \u001b[38;5;129;01mand\u001b[39;00m \u001b[38;5;129;01mnot\u001b[39;00m response_dict:\n\u001b[1;32m     67\u001b[0m     \u001b[38;5;28;01mreturn\u001b[39;00m \u001b[38;5;28;01mNone\u001b[39;00m\n",
      "File \u001b[0;32m~/pyenvs/myenv/lib/python3.10/site-packages/discogs_client/models.py:245\u001b[0m, in \u001b[0;36mPrimaryAPIObject.fetch\u001b[0;34m(self, key, default)\u001b[0m\n\u001b[1;32m    241\u001b[0m     \u001b[38;5;28;01mreturn\u001b[39;00m default\n\u001b[1;32m    243\u001b[0m \u001b[38;5;66;03m# Now refresh the object from its resource_url.\u001b[39;00m\n\u001b[1;32m    244\u001b[0m \u001b[38;5;66;03m# The key might exist but not be in our cache.\u001b[39;00m\n\u001b[0;32m--> 245\u001b[0m \u001b[38;5;28;43mself\u001b[39;49m\u001b[38;5;241;43m.\u001b[39;49m\u001b[43mrefresh\u001b[49m\u001b[43m(\u001b[49m\u001b[43m)\u001b[49m\n\u001b[1;32m    247\u001b[0m \u001b[38;5;28;01mtry\u001b[39;00m:\n\u001b[1;32m    248\u001b[0m     \u001b[38;5;28;01mreturn\u001b[39;00m \u001b[38;5;28mself\u001b[39m\u001b[38;5;241m.\u001b[39mdata[key]\n",
      "File \u001b[0;32m~/pyenvs/myenv/lib/python3.10/site-packages/discogs_client/models.py:204\u001b[0m, in \u001b[0;36mPrimaryAPIObject.refresh\u001b[0;34m(self)\u001b[0m\n\u001b[1;32m    202\u001b[0m \u001b[38;5;28;01mdef\u001b[39;00m \u001b[38;5;21mrefresh\u001b[39m(\u001b[38;5;28mself\u001b[39m):\n\u001b[1;32m    203\u001b[0m     \u001b[38;5;28;01mif\u001b[39;00m \u001b[38;5;28mself\u001b[39m\u001b[38;5;241m.\u001b[39mdata\u001b[38;5;241m.\u001b[39mget(\u001b[38;5;124m'\u001b[39m\u001b[38;5;124mresource_url\u001b[39m\u001b[38;5;124m'\u001b[39m):\n\u001b[0;32m--> 204\u001b[0m         data \u001b[38;5;241m=\u001b[39m \u001b[38;5;28;43mself\u001b[39;49m\u001b[38;5;241;43m.\u001b[39;49m\u001b[43mclient\u001b[49m\u001b[38;5;241;43m.\u001b[39;49m\u001b[43m_get\u001b[49m\u001b[43m(\u001b[49m\u001b[38;5;28;43mself\u001b[39;49m\u001b[38;5;241;43m.\u001b[39;49m\u001b[43mdata\u001b[49m\u001b[43m[\u001b[49m\u001b[38;5;124;43m'\u001b[39;49m\u001b[38;5;124;43mresource_url\u001b[39;49m\u001b[38;5;124;43m'\u001b[39;49m\u001b[43m]\u001b[49m\u001b[43m)\u001b[49m\n\u001b[1;32m    205\u001b[0m         \u001b[38;5;28mself\u001b[39m\u001b[38;5;241m.\u001b[39mdata\u001b[38;5;241m.\u001b[39mupdate(data)\n\u001b[1;32m    206\u001b[0m         \u001b[38;5;28mself\u001b[39m\u001b[38;5;241m.\u001b[39mchanges \u001b[38;5;241m=\u001b[39m {}\n",
      "File \u001b[0;32m~/pyenvs/myenv/lib/python3.10/site-packages/discogs_client/client.py:114\u001b[0m, in \u001b[0;36mClient._get\u001b[0;34m(self, url)\u001b[0m\n\u001b[1;32m    113\u001b[0m \u001b[38;5;28;01mdef\u001b[39;00m \u001b[38;5;21m_get\u001b[39m(\u001b[38;5;28mself\u001b[39m, url):\n\u001b[0;32m--> 114\u001b[0m     \u001b[38;5;28;01mreturn\u001b[39;00m \u001b[38;5;28;43mself\u001b[39;49m\u001b[38;5;241;43m.\u001b[39;49m\u001b[43m_request\u001b[49m\u001b[43m(\u001b[49m\u001b[38;5;124;43m'\u001b[39;49m\u001b[38;5;124;43mGET\u001b[39;49m\u001b[38;5;124;43m'\u001b[39;49m\u001b[43m,\u001b[49m\u001b[43m \u001b[49m\u001b[43murl\u001b[49m\u001b[43m)\u001b[49m\n",
      "File \u001b[0;32m~/pyenvs/myenv/lib/python3.10/site-packages/discogs_client/client.py:101\u001b[0m, in \u001b[0;36mClient._request\u001b[0;34m(self, method, url, data)\u001b[0m\n\u001b[1;32m     98\u001b[0m \u001b[38;5;28;01mif\u001b[39;00m data:\n\u001b[1;32m     99\u001b[0m     headers[\u001b[38;5;124m'\u001b[39m\u001b[38;5;124mContent-Type\u001b[39m\u001b[38;5;124m'\u001b[39m] \u001b[38;5;241m=\u001b[39m \u001b[38;5;124m'\u001b[39m\u001b[38;5;124mapplication/json\u001b[39m\u001b[38;5;124m'\u001b[39m\n\u001b[0;32m--> 101\u001b[0m content, status_code \u001b[38;5;241m=\u001b[39m \u001b[38;5;28;43mself\u001b[39;49m\u001b[38;5;241;43m.\u001b[39;49m\u001b[43m_fetcher\u001b[49m\u001b[38;5;241;43m.\u001b[39;49m\u001b[43mfetch\u001b[49m\u001b[43m(\u001b[49m\u001b[38;5;28;43mself\u001b[39;49m\u001b[43m,\u001b[49m\u001b[43m \u001b[49m\u001b[43mmethod\u001b[49m\u001b[43m,\u001b[49m\u001b[43m \u001b[49m\u001b[43murl\u001b[49m\u001b[43m,\u001b[49m\u001b[43m \u001b[49m\u001b[43mdata\u001b[49m\u001b[38;5;241;43m=\u001b[39;49m\u001b[43mdata\u001b[49m\u001b[43m,\u001b[49m\u001b[43m \u001b[49m\u001b[43mheaders\u001b[49m\u001b[38;5;241;43m=\u001b[39;49m\u001b[43mheaders\u001b[49m\u001b[43m)\u001b[49m\n\u001b[1;32m    103\u001b[0m \u001b[38;5;28;01mif\u001b[39;00m status_code \u001b[38;5;241m==\u001b[39m \u001b[38;5;241m204\u001b[39m:\n\u001b[1;32m    104\u001b[0m     \u001b[38;5;28;01mreturn\u001b[39;00m \u001b[38;5;28;01mNone\u001b[39;00m\n",
      "File \u001b[0;32m~/pyenvs/myenv/lib/python3.10/site-packages/discogs_client/fetchers.py:149\u001b[0m, in \u001b[0;36mUserTokenRequestsFetcher.fetch\u001b[0;34m(self, client, method, url, data, headers, json_format)\u001b[0m\n\u001b[1;32m    123\u001b[0m \u001b[38;5;250m\u001b[39m\u001b[38;5;124;03m\"\"\"Fetch the given request on the user's behalf\u001b[39;00m\n\u001b[1;32m    124\u001b[0m \n\u001b[1;32m    125\u001b[0m \u001b[38;5;124;03mParameters\u001b[39;00m\n\u001b[0;32m   (...)\u001b[0m\n\u001b[1;32m    146\u001b[0m \u001b[38;5;124;03m    as returned by Python \"Requests\"\u001b[39;00m\n\u001b[1;32m    147\u001b[0m \u001b[38;5;124;03m\"\"\"\u001b[39;00m\n\u001b[1;32m    148\u001b[0m data \u001b[38;5;241m=\u001b[39m json\u001b[38;5;241m.\u001b[39mdumps(data) \u001b[38;5;28;01mif\u001b[39;00m json_format \u001b[38;5;129;01mand\u001b[39;00m data \u001b[38;5;28;01melse\u001b[39;00m data\n\u001b[0;32m--> 149\u001b[0m resp \u001b[38;5;241m=\u001b[39m \u001b[38;5;28;43mself\u001b[39;49m\u001b[38;5;241;43m.\u001b[39;49m\u001b[43mrequest\u001b[49m\u001b[43m(\u001b[49m\n\u001b[1;32m    150\u001b[0m \u001b[43m    \u001b[49m\u001b[43mmethod\u001b[49m\u001b[43m,\u001b[49m\u001b[43m \u001b[49m\u001b[43murl\u001b[49m\u001b[43m,\u001b[49m\u001b[43m \u001b[49m\u001b[43mdata\u001b[49m\u001b[38;5;241;43m=\u001b[39;49m\u001b[43mdata\u001b[49m\u001b[43m,\u001b[49m\u001b[43m \u001b[49m\u001b[43mheaders\u001b[49m\u001b[38;5;241;43m=\u001b[39;49m\u001b[43mheaders\u001b[49m\u001b[43m,\u001b[49m\u001b[43m \u001b[49m\u001b[43mparams\u001b[49m\u001b[38;5;241;43m=\u001b[39;49m\u001b[43m{\u001b[49m\u001b[38;5;124;43m'\u001b[39;49m\u001b[38;5;124;43mtoken\u001b[39;49m\u001b[38;5;124;43m'\u001b[39;49m\u001b[43m:\u001b[49m\u001b[38;5;28;43mself\u001b[39;49m\u001b[38;5;241;43m.\u001b[39;49m\u001b[43muser_token\u001b[49m\u001b[43m}\u001b[49m\n\u001b[1;32m    151\u001b[0m \u001b[43m\u001b[49m\u001b[43m)\u001b[49m\n\u001b[1;32m    152\u001b[0m \u001b[38;5;28mself\u001b[39m\u001b[38;5;241m.\u001b[39mrate_limit \u001b[38;5;241m=\u001b[39m resp\u001b[38;5;241m.\u001b[39mheaders\u001b[38;5;241m.\u001b[39mget(\n\u001b[1;32m    153\u001b[0m         \u001b[38;5;124m'\u001b[39m\u001b[38;5;124mX-Discogs-Ratelimit\u001b[39m\u001b[38;5;124m'\u001b[39m)\n\u001b[1;32m    154\u001b[0m \u001b[38;5;28mself\u001b[39m\u001b[38;5;241m.\u001b[39mrate_limit_used \u001b[38;5;241m=\u001b[39m resp\u001b[38;5;241m.\u001b[39mheaders\u001b[38;5;241m.\u001b[39mget(\n\u001b[1;32m    155\u001b[0m         \u001b[38;5;124m'\u001b[39m\u001b[38;5;124mX-Discogs-Ratelimit-Used\u001b[39m\u001b[38;5;124m'\u001b[39m)\n",
      "File \u001b[0;32m~/pyenvs/myenv/lib/python3.10/site-packages/discogs_client/utils.py:64\u001b[0m, in \u001b[0;36mbackoff.<locals>.wrapper\u001b[0;34m(self, *args, **kwargs)\u001b[0m\n\u001b[1;32m     61\u001b[0m         \u001b[38;5;28;01mreturn\u001b[39;00m result\n\u001b[1;32m     63\u001b[0m     duration \u001b[38;5;241m=\u001b[39m get_backoff_duration(i)\n\u001b[0;32m---> 64\u001b[0m     \u001b[43msleep\u001b[49m\u001b[43m(\u001b[49m\u001b[43mduration\u001b[49m\u001b[43m)\u001b[49m\n\u001b[1;32m     66\u001b[0m \u001b[38;5;66;03m# Max attempts reached without returning, raise error\u001b[39;00m\n\u001b[1;32m     67\u001b[0m \u001b[38;5;28;01mraise\u001b[39;00m TooManyAttemptsError\n",
      "\u001b[0;31mKeyboardInterrupt\u001b[0m: "
     ]
    }
   ],
   "source": [
    "filtered_release_list = []\n",
    "for k in range(1, result_label.releases.pages+1):\n",
    "    print()\n",
    "    print(\"Page: {}/{}\".format(k,result_label.releases.pages))\n",
    "    print(result_label.releases.page(k))\n",
    "    for item in result_label.releases.page(k):\n",
    "        release = d.release(item.id)       \n",
    "        if release.community.rating.average >= min_average and release.formats[0]['name']=='Vinyl':\n",
    "            filtered_release_list.append(release)"
   ]
  },
  {
   "cell_type": "code",
   "execution_count": 9,
   "id": "c651c113-66d7-40e7-b8e4-caf9c90a604d",
   "metadata": {},
   "outputs": [],
   "source": [
    "def funcYear(e):\n",
    "    \"\"\"\" A function that returns the 'year' value \"\"\"\n",
    "    return e.year\n",
    "\n",
    "filtered_release_list.sort(reverse=True, key=funcYear)"
   ]
  },
  {
   "cell_type": "code",
   "execution_count": 8,
   "id": "52d9f10c-09b8-412b-b7ff-d389585ae734",
   "metadata": {},
   "outputs": [
    {
     "name": "stdout",
     "output_type": "stream",
     "text": [
      "27014514\n"
     ]
    }
   ],
   "source": [
    "print(filtered_release_list[0].id)"
   ]
  },
  {
   "cell_type": "code",
   "execution_count": 10,
   "id": "303d154c-bf6e-4d38-949c-ff4d00e703dc",
   "metadata": {},
   "outputs": [],
   "source": [
    "# Define function to remove duplicates from an input_list by id\n",
    "def remove_duplicates(input_list):\n",
    "    \"\"\" A function to remove duplicates from a release input_list by id \"\"\"\n",
    "    unique_list = []\n",
    "    seen_ids = set()\n",
    "\n",
    "    for item in input_list:\n",
    "        item_id = item.id\n",
    "        if item_id not in seen_ids:\n",
    "            seen_ids.add(item_id)\n",
    "            unique_list.append(item)\n",
    "\n",
    "    return unique_list\n",
    "\n",
    "unique_filtered_release_list = remove_duplicates(filtered_release_list)"
   ]
  },
  {
   "cell_type": "code",
   "execution_count": 11,
   "id": "ec8675bb-2c20-4d5f-998e-bb4c81fc9654",
   "metadata": {},
   "outputs": [
    {
     "name": "stdout",
     "output_type": "stream",
     "text": [
      "FILETERED RELEASES for label Kalahari Oyster Cult\n",
      "\n",
      "Title: Hallways\n",
      "Artists: [<Artist 7596702 'Olsvangèr'>, <Artist 7596706 'MYKI'>]\n",
      "Year: 2023\n",
      "Labels: [<Label 1120990 'Kalahari Oyster Cult'>]\n",
      "Genres: ['Electronic']\n",
      "Styles: ['Tech House', 'House', 'Trance', 'Techno']\n",
      "Formats: [{'name': 'Vinyl', 'qty': '1', 'descriptions': ['12\"', '33 ⅓ RPM', 'EP']}]\n",
      "Community rating average/count: 4.83/12 \n",
      "Url: https://www.discogs.com/release/27014514-Olsvang%C3%A8r-MYKI-Hallways\n",
      "\n",
      "Title: Rivulets\n",
      "Artists: [<Artist 6523984 'OK EG'>]\n",
      "Year: 2023\n",
      "Labels: [<Label 1120990 'Kalahari Oyster Cult'>]\n",
      "Genres: ['Electronic']\n",
      "Styles: ['Techno', 'Dub Techno']\n",
      "Formats: [{'name': 'Vinyl', 'qty': '2', 'descriptions': ['LP']}]\n",
      "Community rating average/count: 4.8/10 \n",
      "Url: https://www.discogs.com/release/28474504-OK-EG-Rivulets\n",
      "\n",
      "Title: Gaze EP\n",
      "Artists: [<Artist 3280385 'Eversines'>]\n",
      "Year: 2023\n",
      "Labels: [<Label 1120990 'Kalahari Oyster Cult'>]\n",
      "Genres: ['Electronic']\n",
      "Styles: ['Tech House', 'Techno', 'Breakbeat']\n",
      "Formats: [{'name': 'Vinyl', 'qty': '1', 'descriptions': ['12\"']}]\n",
      "Community rating average/count: 4.92/13 \n",
      "Url: https://www.discogs.com/release/28718971-Eversines-Gaze-EP\n",
      "\n",
      "Title: Mineral 05\n",
      "Artists: [<Artist 228282 'Havana (4)'>, <Artist 158353 'Sigmatibet'>]\n",
      "Year: 2022\n",
      "Labels: [<Label 2131840 'Mineral Cuts'>]\n",
      "Genres: ['Electronic']\n",
      "Styles: ['Tech House', 'Techno']\n",
      "Formats: [{'name': 'Vinyl', 'qty': '1', 'descriptions': ['12\"', '45 RPM', 'Mispress', 'Remastered']}]\n",
      "Community rating average/count: 4.86/21 \n",
      "Url: https://www.discogs.com/release/23667542-Havana-4-Sigma-Tibet-Mineral-05\n",
      "\n",
      "Title: Suite EP\n",
      "Artists: [<Artist 6502690 'RDS (10)'>]\n",
      "Year: 2022\n",
      "Labels: [<Label 1120990 'Kalahari Oyster Cult'>]\n",
      "Genres: ['Electronic']\n",
      "Styles: ['Techno', 'Downtempo', 'Trance', 'House']\n",
      "Formats: [{'name': 'Vinyl', 'qty': '1', 'descriptions': ['12\"', '33 ⅓ RPM', 'EP']}]\n",
      "Community rating average/count: 4.85/13 \n",
      "Url: https://www.discogs.com/release/24779081-RDS-Suite-EP\n",
      "\n",
      "Title: AI Calculator\n",
      "Artists: [<Artist 5743628 'Primal Code'>]\n",
      "Year: 2022\n",
      "Labels: [<Label 1120990 'Kalahari Oyster Cult'>]\n",
      "Genres: ['Electronic']\n",
      "Styles: ['Techno', 'IDM', 'Acid']\n",
      "Formats: [{'name': 'Vinyl', 'qty': '1', 'descriptions': ['12\"', '33 ⅓ RPM']}]\n",
      "Community rating average/count: 4.83/18 \n",
      "Url: https://www.discogs.com/release/21614911-Primal-Code-AI-Calculator\n",
      "\n",
      "Title: Elsewhere XX\n",
      "Artists: [<Artist 194 'Various'>]\n",
      "Year: 2022\n",
      "Labels: [<Label 1120990 'Kalahari Oyster Cult'>]\n",
      "Genres: ['Electronic', 'Hip Hop', 'Rock', 'Funk / Soul', 'Non-Music']\n",
      "Styles: ['Leftfield', 'Synth-pop', 'Post-Punk', 'Techno', 'Abstract', 'New Wave', 'Tribal']\n",
      "Formats: [{'name': 'Vinyl', 'qty': '2', 'descriptions': ['LP', 'Compilation']}]\n",
      "Community rating average/count: 4.94/18 \n",
      "Url: https://www.discogs.com/release/22272487-Various-Elsewhere-XX\n",
      "\n",
      "Title: The Works E.P.\n",
      "Artists: [<Artist 896 'Helium'>]\n",
      "Year: 2021\n",
      "Labels: [<Label 1120990 'Kalahari Oyster Cult'>]\n",
      "Genres: ['Electronic']\n",
      "Styles: ['Techno', 'Trance', 'Ambient', 'House']\n",
      "Formats: [{'name': 'Vinyl', 'qty': '2', 'descriptions': ['12\"', '33 ⅓ RPM', '45 RPM', 'EP']}]\n",
      "Community rating average/count: 4.9/30 \n",
      "Url: https://www.discogs.com/release/16875438-Helium-The-Works-EP\n",
      "\n",
      "Title: myDEFINITION\n",
      "Artists: [<Artist 2093314 'SW.'>]\n",
      "Year: 2021\n",
      "Labels: [<Label 1120990 'Kalahari Oyster Cult'>]\n",
      "Genres: ['Electronic']\n",
      "Styles: ['House', 'Techno']\n",
      "Formats: [{'name': 'Vinyl', 'qty': '1', 'descriptions': ['LP']}]\n",
      "Community rating average/count: 4.83/18 \n",
      "Url: https://www.discogs.com/release/19410595-SW-myDEFINITION\n",
      "\n",
      "Title: X-Ray Records 1992-1994\n",
      "Artists: [<Artist 27315 'Ray Castoldi'>]\n",
      "Year: 2021\n",
      "Labels: [<Label 1120990 'Kalahari Oyster Cult'>]\n",
      "Genres: ['Electronic']\n",
      "Styles: ['Deep House']\n",
      "Formats: [{'name': 'Vinyl', 'qty': '3', 'descriptions': ['12\"']}]\n",
      "Community rating average/count: 4.92/13 \n",
      "Url: https://www.discogs.com/release/18496444-Raymond-Castoldi-X-Ray-Records-1992-1994\n",
      "\n",
      "Title: Elsewhere MMDLXXVI\n",
      "Artists: [<Artist 194 'Various'>]\n",
      "Year: 2018\n",
      "Labels: [<Label 1120990 'Kalahari Oyster Cult'>]\n",
      "Genres: ['Electronic', 'Jazz', 'Rock', 'Folk, World, & Country']\n",
      "Styles: ['Disco', 'Experimental', 'Tribal', 'House', 'New Wave', 'Leftfield', 'Krautrock']\n",
      "Formats: [{'name': 'Vinyl', 'qty': '2', 'descriptions': ['LP', 'Compilation']}]\n",
      "Community rating average/count: 4.81/43 \n",
      "Url: https://www.discogs.com/release/11738813-Various-Elsewhere-MMDLXXVI\n",
      "\n",
      "Title: Foreign Depths\n",
      "Artists: [<Artist 2820253 'Urulu'>]\n",
      "Year: 2018\n",
      "Labels: [<Label 1120990 'Kalahari Oyster Cult'>]\n",
      "Genres: ['Electronic']\n",
      "Styles: ['Breakbeat', 'House']\n",
      "Formats: [{'name': 'Vinyl', 'qty': '1', 'descriptions': ['12\"', '33 ⅓ RPM', 'EP']}]\n",
      "Community rating average/count: 4.9/68 \n",
      "Url: https://www.discogs.com/release/12270060-Urulu-Foreign-Depths\n"
     ]
    }
   ],
   "source": [
    "print(\"FILETERED RELEASES for label {}\".format(result_label.name))\n",
    "for release in unique_filtered_release_list:\n",
    "    print()\n",
    "    print(\"Title: {}\".format(release.title))\n",
    "    print(\"Artists: {}\".format(release.artists))\n",
    "    print(\"Year: {}\".format(release.year))\n",
    "    print(\"Labels: {}\".format(release.labels))\n",
    "    print(\"Genres: {}\".format(release.genres))\n",
    "    print(\"Styles: {}\".format(release.styles))\n",
    "    print(\"Formats: {}\".format(release.formats))\n",
    "    print(\"Community rating average/count: {}/{} \".format(release.community.rating.average, release.community.rating.count))\n",
    "    print(\"Url: {}\".format(release.url))"
   ]
  },
  {
   "cell_type": "code",
   "execution_count": null,
   "id": "be324b3f-3365-4d98-a40a-5312a9ef2b4f",
   "metadata": {},
   "outputs": [],
   "source": []
  }
 ],
 "metadata": {
  "kernelspec": {
   "display_name": "Python 3 (ipykernel)",
   "language": "python",
   "name": "python3"
  },
  "language_info": {
   "codemirror_mode": {
    "name": "ipython",
    "version": 3
   },
   "file_extension": ".py",
   "mimetype": "text/x-python",
   "name": "python",
   "nbconvert_exporter": "python",
   "pygments_lexer": "ipython3",
   "version": "3.10.12"
  }
 },
 "nbformat": 4,
 "nbformat_minor": 5
}
