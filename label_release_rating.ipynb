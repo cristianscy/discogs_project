{
 "cells": [
  {
   "cell_type": "code",
   "execution_count": 69,
   "id": "b6e3c82c-1d86-437d-944f-50de5ca1b7d2",
   "metadata": {},
   "outputs": [],
   "source": [
    "import json\n",
    "import requests as rs\n",
    "import requests_cache \n",
    "\n",
    "requests_cache.install_cache(cache_name='discogs_cache', backend='sqlite', expire_after=86400)"
   ]
  },
  {
   "cell_type": "code",
   "execution_count": 70,
   "id": "5c50b015-2972-40ea-a8c4-5e640ee58dd7",
   "metadata": {},
   "outputs": [
    {
     "name": "stdout",
     "output_type": "stream",
     "text": [
      "<CachedResponse [200]: created: 2023-12-30 14:02:16 CET, expires: 2023-12-31 14:02:16 CET (fresh), size: 1.30 KiB, request: GET https://api.discogs.com/labels/13288/releases?page=1&per_page=5>\n",
      "{\n",
      "    \"pagination\": {\n",
      "        \"items\": 434,\n",
      "        \"page\": 1,\n",
      "        \"pages\": 87,\n",
      "        \"per_page\": 5,\n",
      "        \"urls\": {\n",
      "            \"last\": \"https://api.discogs.com/labels/13288/releases?page=87&per_page=5\",\n",
      "            \"next\": \"https://api.discogs.com/labels/13288/releases?page=2&per_page=5\"\n",
      "        }\n",
      "    },\n",
      "    \"releases\": [\n",
      "        {\n",
      "            \"artist\": \"A.Mochi\",\n",
      "            \"catno\": \"fig. 13\",\n",
      "            \"format\": \"12\\\", EP\",\n",
      "            \"id\": 1516676,\n",
      "            \"resource_url\": \"https://api.discogs.com/releases/1516676\",\n",
      "            \"status\": \"Accepted\",\n",
      "            \"thumb\": \"\",\n",
      "            \"title\": \"Battery / Harvester / Puppets\",\n",
      "            \"year\": 2008\n",
      "        },\n",
      "        {\n",
      "            \"artist\": \"Mikael Jonasson\",\n",
      "            \"catno\": \"fig. 42\",\n",
      "            \"format\": \"12\\\"\",\n",
      "            \"id\": 4126233,\n",
      "            \"resource_url\": \"https://api.discogs.com/releases/4126233\",\n",
      "            \"status\": \"Accepted\",\n",
      "            \"thumb\": \"\",\n",
      "            \"title\": \"Cravings / Swings\",\n",
      "            \"year\": 2012\n",
      "        },\n",
      "        {\n",
      "            \"artist\": \"Julian Jeweil\",\n",
      "            \"catno\": \"fig. 18\",\n",
      "            \"format\": \"12\\\"\",\n",
      "            \"id\": 1784913,\n",
      "            \"resource_url\": \"https://api.discogs.com/releases/1784913\",\n",
      "            \"status\": \"Accepted\",\n",
      "            \"thumb\": \"\",\n",
      "            \"title\": \"My Cat\",\n",
      "            \"year\": 2009\n",
      "        },\n",
      "        {\n",
      "            \"artist\": \"Len Faki\",\n",
      "            \"catno\": \"FIGURE74\",\n",
      "            \"format\": \"12\\\"\",\n",
      "            \"id\": 8107804,\n",
      "            \"resource_url\": \"https://api.discogs.com/releases/8107804\",\n",
      "            \"status\": \"Accepted\",\n",
      "            \"thumb\": \"\",\n",
      "            \"title\": \"Hidden Objects\",\n",
      "            \"year\": 2016\n",
      "        },\n",
      "        {\n",
      "            \"artist\": \"Johannes Heil\",\n",
      "            \"catno\": \"fig. 44\",\n",
      "            \"format\": \"12\\\"\",\n",
      "            \"id\": 4315752,\n",
      "            \"resource_url\": \"https://api.discogs.com/releases/4315752\",\n",
      "            \"status\": \"Accepted\",\n",
      "            \"thumb\": \"\",\n",
      "            \"title\": \"Lifesigns\",\n",
      "            \"year\": 2013\n",
      "        }\n",
      "    ]\n",
      "}\n"
     ]
    }
   ],
   "source": [
    "url = \"https://api.discogs.com/labels/13288/releases?page=1&per_page=5\"\n",
    "response = rs.get(url)\n",
    "print(response)\n",
    "response_dict = json.loads(response.text)\n",
    "print(json.dumps(response_dict, indent=4, sort_keys=True))"
   ]
  },
  {
   "cell_type": "code",
   "execution_count": 90,
   "id": "4c920133-ce34-4720-98f5-94f68f487033",
   "metadata": {},
   "outputs": [
    {
     "name": "stdout",
     "output_type": "stream",
     "text": [
      "{\n",
      "    \"rating\": {\n",
      "        \"average\": 4.75,\n",
      "        \"count\": 12\n",
      "    },\n",
      "    \"release_id\": 4126233\n",
      "}\n"
     ]
    }
   ],
   "source": [
    "for release in response_dict[\"releases\"]:\n",
    "    # Get community release rating\n",
    "    resource_url = release[\"resource_url\"]\n",
    "    rating_url = resource_url + \"/rating\"\n",
    "    # print(rating_url)\n",
    "    response_rating = rs.get(rating_url)\n",
    "    # print(\"Used Cache: {0}\".format(response_rating.from_cache))\n",
    "    response_rating_dict = json.loads(response_rating.text)\n",
    "\n",
    "    # Filter releases with average > min_average\n",
    "    min_average = 4.5\n",
    "    releases_list = []\n",
    "    if response_rating_dict[\"rating\"][\"average\"] >= min_average:\n",
    "        releases_list.append(response_rating_dict)\n",
    "\n",
    "    for release in releases_list:\n",
    "        print(json.dumps(release, indent=4, sort_keys=True))"
   ]
  },
  {
   "cell_type": "code",
   "execution_count": null,
   "id": "fd5b4820-94b3-4c74-a255-bf1725a12060",
   "metadata": {},
   "outputs": [],
   "source": []
  }
 ],
 "metadata": {
  "kernelspec": {
   "display_name": "Python 3 (ipykernel)",
   "language": "python",
   "name": "python3"
  },
  "language_info": {
   "codemirror_mode": {
    "name": "ipython",
    "version": 3
   },
   "file_extension": ".py",
   "mimetype": "text/x-python",
   "name": "python",
   "nbconvert_exporter": "python",
   "pygments_lexer": "ipython3",
   "version": "3.10.12"
  }
 },
 "nbformat": 4,
 "nbformat_minor": 5
}
